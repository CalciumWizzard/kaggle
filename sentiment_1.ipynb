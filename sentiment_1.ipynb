{
 "cells": [
  {
   "cell_type": "code",
   "execution_count": 1,
   "metadata": {},
   "outputs": [
    {
     "data": {
      "application/vnd.livy.statement-meta+json": {
       "execution_finish_time": "2022-03-07T12:54:50.8256304Z",
       "execution_start_time": "2022-03-07T12:54:50.6802835Z",
       "livy_statement_state": "available",
       "queued_time": "2022-03-07T12:51:39.1812437Z",
       "session_id": 0,
       "session_start_time": "2022-03-07T12:51:39.2194252Z",
       "spark_pool": "PerforTestSpark",
       "state": "finished",
       "statement_id": 1
      },
      "text/plain": [
       "StatementMeta(PerforTestSpark, 0, 1, Finished, Available)"
      ]
     },
     "metadata": {},
     "output_type": "display_data"
    }
   ],
   "source": [
    "# import os\n",
    "# os.environ[\"CUDA_VISIBLE_DEVICES\"] = \"-1\""
   ]
  },
  {
   "cell_type": "code",
   "execution_count": 2,
   "metadata": {},
   "outputs": [
    {
     "data": {
      "application/vnd.livy.statement-meta+json": {
       "execution_finish_time": "2022-03-07T12:55:01.4863604Z",
       "execution_start_time": "2022-03-07T12:54:50.9345872Z",
       "livy_statement_state": "available",
       "queued_time": "2022-03-07T12:51:39.1873238Z",
       "session_id": 0,
       "session_start_time": null,
       "spark_pool": "PerforTestSpark",
       "state": "finished",
       "statement_id": 2
      },
      "text/plain": [
       "StatementMeta(PerforTestSpark, 0, 2, Finished, Available)"
      ]
     },
     "metadata": {},
     "output_type": "display_data"
    }
   ],
   "source": [
    "import tensorflow as tf\n",
    "import gensim\n",
    "import nltk\n",
    "import re\n",
    "import tensorflow_datasets as tfds\n",
    "import numpy as np\n",
    "import pandas as pd\n",
    "import tensorflow_hub as hub\n",
    "import tensorflow_text as text\n",
    "from official.nlp import optimization\n",
    "from tensorflow.keras.utils import to_categorical\n",
    "import matplotlib.pyplot as plt\n",
    "from sklearn.metrics import classification_report, confusion_matrix"
   ]
  },
  {
   "cell_type": "code",
   "execution_count": 3,
   "metadata": {},
   "outputs": [
    {
     "data": {
      "application/vnd.livy.statement-meta+json": {
       "execution_finish_time": "2022-03-07T12:55:08.3849579Z",
       "execution_start_time": "2022-03-07T12:55:01.5759903Z",
       "livy_statement_state": "available",
       "queued_time": "2022-03-07T12:51:39.1893094Z",
       "session_id": 0,
       "session_start_time": null,
       "spark_pool": "PerforTestSpark",
       "state": "finished",
       "statement_id": 3
      },
      "text/plain": [
       "StatementMeta(PerforTestSpark, 0, 3, Finished, Available)"
      ]
     },
     "metadata": {},
     "output_type": "display_data"
    },
    {
     "name": "stdout",
     "output_type": "stream",
     "text": [
      "                                                    text  label\n",
      "39995  \"Western Union\" is something of a forgotten cl...      1\n",
      "39996  This movie is an incredible piece of work. It ...      1\n",
      "39997  My wife and I watched this movie because we pl...      0\n",
      "39998  When I first watched Flatliners, I was amazed....      1\n",
      "39999  Why would this film be so good, but only gross...      1"
     ]
    }
   ],
   "source": [
    "df = pd.read_csv('abfss://ic3insightdev@ic3insightdev.dfs.core.windows.net/SparkLogs/movie.csv')\n",
    "print(df.tail(5))"
   ]
  },
  {
   "cell_type": "code",
   "execution_count": 4,
   "metadata": {},
   "outputs": [
    {
     "data": {
      "application/vnd.livy.statement-meta+json": {
       "execution_finish_time": "2022-03-07T12:55:08.6360628Z",
       "execution_start_time": "2022-03-07T12:55:08.4736616Z",
       "livy_statement_state": "available",
       "queued_time": "2022-03-07T12:51:39.1924453Z",
       "session_id": 0,
       "session_start_time": null,
       "spark_pool": "PerforTestSpark",
       "state": "finished",
       "statement_id": 4
      },
      "text/plain": [
       "StatementMeta(PerforTestSpark, 0, 4, Finished, Available)"
      ]
     },
     "metadata": {},
     "output_type": "display_data"
    }
   ],
   "source": [
    "target = df.pop('label')"
   ]
  },
  {
   "cell_type": "code",
   "execution_count": 5,
   "metadata": {},
   "outputs": [
    {
     "data": {
      "application/vnd.livy.statement-meta+json": {
       "execution_finish_time": "2022-03-07T12:55:09.7533947Z",
       "execution_start_time": "2022-03-07T12:55:08.723645Z",
       "livy_statement_state": "available",
       "queued_time": "2022-03-07T12:51:39.1954593Z",
       "session_id": 0,
       "session_start_time": null,
       "spark_pool": "PerforTestSpark",
       "state": "finished",
       "statement_id": 5
      },
      "text/plain": [
       "StatementMeta(PerforTestSpark, 0, 5, Finished, Available)"
      ]
     },
     "metadata": {},
     "output_type": "display_data"
    }
   ],
   "source": [
    "raw_ds=tf.data.Dataset.from_tensor_slices(\n",
    "    (df.values, target.values))"
   ]
  },
  {
   "cell_type": "code",
   "execution_count": 6,
   "metadata": {},
   "outputs": [
    {
     "data": {
      "application/vnd.livy.statement-meta+json": {
       "execution_finish_time": "2022-03-07T12:55:10.0148936Z",
       "execution_start_time": "2022-03-07T12:55:09.8603664Z",
       "livy_statement_state": "available",
       "queued_time": "2022-03-07T12:51:39.1977501Z",
       "session_id": 0,
       "session_start_time": null,
       "spark_pool": "PerforTestSpark",
       "state": "finished",
       "statement_id": 6
      },
      "text/plain": [
       "StatementMeta(PerforTestSpark, 0, 6, Finished, Available)"
      ]
     },
     "metadata": {},
     "output_type": "display_data"
    }
   ],
   "source": [
    "raw_ds = raw_ds.batch(16)"
   ]
  },
  {
   "cell_type": "code",
   "execution_count": 7,
   "metadata": {},
   "outputs": [
    {
     "data": {
      "application/vnd.livy.statement-meta+json": {
       "execution_finish_time": "2022-03-07T12:55:10.251571Z",
       "execution_start_time": "2022-03-07T12:55:10.0999583Z",
       "livy_statement_state": "available",
       "queued_time": "2022-03-07T12:51:39.2005137Z",
       "session_id": 0,
       "session_start_time": null,
       "spark_pool": "PerforTestSpark",
       "state": "finished",
       "statement_id": 7
      },
      "text/plain": [
       "StatementMeta(PerforTestSpark, 0, 7, Finished, Available)"
      ]
     },
     "metadata": {},
     "output_type": "display_data"
    },
    {
     "data": {
      "text/plain": [
       "<BatchDataset element_spec=(TensorSpec(shape=(None, 1), dtype=tf.string, name=None), TensorSpec(shape=(None,), dtype=tf.int64, name=None))>"
      ]
     },
     "metadata": {},
     "output_type": "display_data"
    }
   ],
   "source": [
    "raw_ds"
   ]
  },
  {
   "cell_type": "code",
   "execution_count": 8,
   "metadata": {},
   "outputs": [
    {
     "data": {
      "application/vnd.livy.statement-meta+json": {
       "execution_finish_time": "2022-03-07T12:55:10.5314362Z",
       "execution_start_time": "2022-03-07T12:55:10.3816399Z",
       "livy_statement_state": "available",
       "queued_time": "2022-03-07T12:51:39.2040711Z",
       "session_id": 0,
       "session_start_time": null,
       "spark_pool": "PerforTestSpark",
       "state": "finished",
       "statement_id": 8
      },
      "text/plain": [
       "StatementMeta(PerforTestSpark, 0, 8, Finished, Available)"
      ]
     },
     "metadata": {},
     "output_type": "display_data"
    },
    {
     "name": "stdout",
     "output_type": "stream",
     "text": [
      "2500"
     ]
    }
   ],
   "source": [
    "total=int(40000/16)\n",
    "print(total)\n",
    "skip=int(8000/16)\n",
    "train=int(22400/16)\n",
    "ds_raw_shuffled = raw_ds.shuffle(total, reshuffle_each_iteration=False)\n",
    "\n",
    "ds_test = ds_raw_shuffled.take(skip)\n",
    "ds_train_valid = ds_raw_shuffled.skip(skip)\n",
    "ds_train = ds_train_valid.take(train)\n",
    "ds_valid = ds_train_valid.skip(train)"
   ]
  },
  {
   "cell_type": "code",
   "execution_count": 9,
   "metadata": {},
   "outputs": [
    {
     "data": {
      "application/vnd.livy.statement-meta+json": {
       "execution_finish_time": "2022-03-07T12:55:10.7729604Z",
       "execution_start_time": "2022-03-07T12:55:10.6162017Z",
       "livy_statement_state": "available",
       "queued_time": "2022-03-07T12:51:39.2070051Z",
       "session_id": 0,
       "session_start_time": null,
       "spark_pool": "PerforTestSpark",
       "state": "finished",
       "statement_id": 9
      },
      "text/plain": [
       "StatementMeta(PerforTestSpark, 0, 9, Finished, Available)"
      ]
     },
     "metadata": {},
     "output_type": "display_data"
    },
    {
     "name": "stdout",
     "output_type": "stream",
     "text": [
      "Review: [b\"This film's premise seems to be that the passing of the World War 2 generation in America, with its apple-pie phoniness and hypocritical morality, was a terrible tragedy. Those awful hippies ruined everything apparently.<br /><br />What holds the film together are the excellent performances - particularly Lemmon's which is truly remarkable. Otherwise we have a boring slice-of-life drama (just over 24 hours of Jack's life) with pretensions.<br /><br />I found it a chore to sit through.\"]\n",
      "Label : 0\n",
      "Review: [b\"I found this film to be a fascinating study of a family in crisis. When Leo, the oldest announces that he is HIV+ the reactions of the family members alone and with each other was touching and yet strange.<br /><br />I have never seen a family that was as physically demonstrative as this one; nor one as likely to shout at each other. I didn't understand why the family felt that youngest couldn't deal with the news but once past that difficult I found this a thoroughly moving film.<br /><br />\"]\n",
      "Label : 1\n",
      "Review: [b\"Reading through most of the other reviews, I tend to agree with most of the comments. The one thing that I would add is the disjointed way the movie has been Directed and Produced. I think that some of these new wave movie makers think that they are being clever using unusual (sometimes jerky) camera angles, and flitting from one scene to another. It goes down well with these movie festivals, and with some of these Indie type critics, but it spoils the movie for me. I noticed in the reviews, one comment saying that none of this movie makers films have become blockbusters. This would maybe prove my point, as the film has that 'rushed to finish' feeling that makes you wonder why such a beautiful film appears to be lacking a smooth flow. As for the comment about Kiefer Sutherland being a big name to put on the poster, I would bet he cringed when watching the final cut. This is a story with real potential, spoilt by trying to be different in it's production. Worth watching, but not many would come back for a second view.\"]\n",
      "Label : 0"
     ]
    }
   ],
   "source": [
    "for text_batch, label_batch in ds_train.take(1):\n",
    "    for i in range(3):\n",
    "        print(f'Review: {text_batch.numpy()[i]}')\n",
    "        label = label_batch.numpy()[i]\n",
    "        print(f'Label : {label}')"
   ]
  },
  {
   "cell_type": "code",
   "execution_count": 10,
   "metadata": {},
   "outputs": [
    {
     "data": {
      "application/vnd.livy.statement-meta+json": {
       "execution_finish_time": "2022-03-07T12:55:11.0154007Z",
       "execution_start_time": "2022-03-07T12:55:10.8653273Z",
       "livy_statement_state": "available",
       "queued_time": "2022-03-07T12:51:39.2093433Z",
       "session_id": 0,
       "session_start_time": null,
       "spark_pool": "PerforTestSpark",
       "state": "finished",
       "statement_id": 10
      },
      "text/plain": [
       "StatementMeta(PerforTestSpark, 0, 10, Finished, Available)"
      ]
     },
     "metadata": {},
     "output_type": "display_data"
    },
    {
     "name": "stdout",
     "output_type": "stream",
     "text": [
      "BERT model selected           : https://tfhub.dev/tensorflow/talkheads_ggelu_bert_en_base/2\n",
      "Preprocess model auto-selected: https://tfhub.dev/tensorflow/bert_en_uncased_preprocess/3"
     ]
    }
   ],
   "source": [
    "bert_model_name = 'talking-heads_base'\n",
    "map_name_to_handle = 'https://tfhub.dev/tensorflow/talkheads_ggelu_bert_en_base/2'\n",
    "map_model_to_preprocess = 'https://tfhub.dev/tensorflow/bert_en_uncased_preprocess/3'\n",
    "\n",
    "tfhub_handle_encoder = map_name_to_handle\n",
    "tfhub_handle_preprocess = map_model_to_preprocess\n",
    "\n",
    "print(f'BERT model selected           : {tfhub_handle_encoder}')\n",
    "print(f'Preprocess model auto-selected: {tfhub_handle_preprocess}')"
   ]
  },
  {
   "cell_type": "code",
   "execution_count": 11,
   "metadata": {},
   "outputs": [
    {
     "data": {
      "application/vnd.livy.statement-meta+json": {
       "execution_finish_time": "2022-03-07T12:55:14.9678732Z",
       "execution_start_time": "2022-03-07T12:55:11.1004865Z",
       "livy_statement_state": "available",
       "queued_time": "2022-03-07T12:51:39.2116512Z",
       "session_id": 0,
       "session_start_time": null,
       "spark_pool": "PerforTestSpark",
       "state": "finished",
       "statement_id": 11
      },
      "text/plain": [
       "StatementMeta(PerforTestSpark, 0, 11, Finished, Available)"
      ]
     },
     "metadata": {},
     "output_type": "display_data"
    }
   ],
   "source": [
    "bert_preprocess_model = hub.KerasLayer(tfhub_handle_preprocess)"
   ]
  },
  {
   "cell_type": "code",
   "execution_count": 12,
   "metadata": {},
   "outputs": [
    {
     "data": {
      "application/vnd.livy.statement-meta+json": {
       "execution_finish_time": "2022-03-07T12:55:35.804893Z",
       "execution_start_time": "2022-03-07T12:55:15.0518831Z",
       "livy_statement_state": "available",
       "queued_time": "2022-03-07T12:51:39.2137876Z",
       "session_id": 0,
       "session_start_time": null,
       "spark_pool": "PerforTestSpark",
       "state": "finished",
       "statement_id": 12
      },
      "text/plain": [
       "StatementMeta(PerforTestSpark, 0, 12, Finished, Available)"
      ]
     },
     "metadata": {},
     "output_type": "display_data"
    }
   ],
   "source": [
    "bert_model = hub.KerasLayer(tfhub_handle_encoder)"
   ]
  },
  {
   "cell_type": "code",
   "execution_count": 13,
   "metadata": {},
   "outputs": [
    {
     "data": {
      "application/vnd.livy.statement-meta+json": {
       "execution_finish_time": "2022-03-07T12:55:36.0526245Z",
       "execution_start_time": "2022-03-07T12:55:35.8980954Z",
       "livy_statement_state": "available",
       "queued_time": "2022-03-07T12:51:39.2161782Z",
       "session_id": 0,
       "session_start_time": null,
       "spark_pool": "PerforTestSpark",
       "state": "finished",
       "statement_id": 13
      },
      "text/plain": [
       "StatementMeta(PerforTestSpark, 0, 13, Finished, Available)"
      ]
     },
     "metadata": {},
     "output_type": "display_data"
    }
   ],
   "source": [
    "train_data=ds_train\n",
    "valid_data=ds_valid\n",
    "test_data=ds_test"
   ]
  },
  {
   "cell_type": "code",
   "execution_count": 14,
   "metadata": {},
   "outputs": [
    {
     "data": {
      "application/vnd.livy.statement-meta+json": {
       "execution_finish_time": "2022-03-07T12:55:36.319181Z",
       "execution_start_time": "2022-03-07T12:55:36.1677922Z",
       "livy_statement_state": "available",
       "queued_time": "2022-03-07T12:51:39.2201108Z",
       "session_id": 0,
       "session_start_time": null,
       "spark_pool": "PerforTestSpark",
       "state": "finished",
       "statement_id": 14
      },
      "text/plain": [
       "StatementMeta(PerforTestSpark, 0, 14, Finished, Available)"
      ]
     },
     "metadata": {},
     "output_type": "display_data"
    }
   ],
   "source": [
    "def build_classifier_model():\n",
    "    text_input = tf.keras.layers.Input(shape=(), dtype=tf.string, name='text')\n",
    "    preprocessing_layer = hub.KerasLayer(tfhub_handle_preprocess, name='preprocessing')\n",
    "    encoder_inputs = preprocessing_layer(text_input)\n",
    "    encoder = hub.KerasLayer(tfhub_handle_encoder, trainable=True, name='BERT_encoder')\n",
    "    outputs = encoder(encoder_inputs)\n",
    "    pooled_net = outputs['pooled_output']\n",
    "    sequence_output = outputs[\"sequence_output\"]\n",
    "    net = tf.keras.layers.Dropout(0.5)(pooled_net)\n",
    "    net = tf.keras.layers.Dense(1, activation='tanh', name='classifier')(net)\n",
    "    return tf.keras.Model(text_input, net)"
   ]
  },
  {
   "cell_type": "code",
   "execution_count": 15,
   "metadata": {},
   "outputs": [
    {
     "data": {
      "application/vnd.livy.statement-meta+json": {
       "execution_finish_time": "2022-03-07T12:55:55.0160888Z",
       "execution_start_time": "2022-03-07T12:55:36.4062802Z",
       "livy_statement_state": "available",
       "queued_time": "2022-03-07T12:51:39.2338309Z",
       "session_id": 0,
       "session_start_time": null,
       "spark_pool": "PerforTestSpark",
       "state": "finished",
       "statement_id": 15
      },
      "text/plain": [
       "StatementMeta(PerforTestSpark, 0, 15, Finished, Available)"
      ]
     },
     "metadata": {},
     "output_type": "display_data"
    },
    {
     "name": "stdout",
     "output_type": "stream",
     "text": [
      "Word Ids   : [ 101 2023 3185 2003 2307 1012 1012 1012  102    0    0    0]\n",
      "Word Ids   : [ 101 2023 3185 2003 2307 1012  102    0    0    0    0    0]"
     ]
    }
   ],
   "source": [
    "classifier_model = build_classifier_model()\n",
    "text_test = ['this movie is great...']\n",
    "text_preprocessed = bert_preprocess_model(text_test)\n",
    "text_test2 = ['This Movie Is Great.']\n",
    "text_preprocessed2 = bert_preprocess_model(text_test2)\n",
    "print(f'Word Ids   : {text_preprocessed[\"input_word_ids\"][0, :12]}')\n",
    "print(f'Word Ids   : {text_preprocessed2[\"input_word_ids\"][0, :12]}')"
   ]
  },
  {
   "cell_type": "code",
   "execution_count": 16,
   "metadata": {},
   "outputs": [
    {
     "data": {
      "application/vnd.livy.statement-meta+json": {
       "execution_finish_time": "2022-03-07T12:55:55.2715112Z",
       "execution_start_time": "2022-03-07T12:55:55.1093388Z",
       "livy_statement_state": "available",
       "queued_time": "2022-03-07T12:51:39.236076Z",
       "session_id": 0,
       "session_start_time": null,
       "spark_pool": "PerforTestSpark",
       "state": "finished",
       "statement_id": 16
      },
      "text/plain": [
       "StatementMeta(PerforTestSpark, 0, 16, Finished, Available)"
      ]
     },
     "metadata": {},
     "output_type": "display_data"
    },
    {
     "name": "stdout",
     "output_type": "stream",
     "text": [
      "Model: \"model\"\n",
      "__________________________________________________________________________________________________\n",
      " Layer (type)                   Output Shape         Param #     Connected to                     \n",
      "==================================================================================================\n",
      " text (InputLayer)              [(None,)]            0           []                               \n",
      "                                                                                                  \n",
      " preprocessing (KerasLayer)     {'input_mask': (Non  0           ['text[0][0]']                   \n",
      "                                e, 128),                                                          \n",
      "                                 'input_type_ids':                                                \n",
      "                                (None, 128),                                                      \n",
      "                                 'input_word_ids':                                                \n",
      "                                (None, 128)}                                                      \n",
      "                                                                                                  \n",
      " BERT_encoder (KerasLayer)      {'default': (None,   137834113   ['preprocessing[0][0]',          \n",
      "                                768),                             'preprocessing[0][1]',          \n",
      "                                 'encoder_outputs':               'preprocessing[0][2]']          \n",
      "                                 [(None, 128, 768),                                               \n",
      "                                 (None, 128, 768),                                                \n",
      "                                 (None, 128, 768),                                                \n",
      "                                 (None, 128, 768),                                                \n",
      "                                 (None, 128, 768),                                                \n",
      "                                 (None, 128, 768),                                                \n",
      "                                 (None, 128, 768),                                                \n",
      "                                 (None, 128, 768),                                                \n",
      "                                 (None, 128, 768),                                                \n",
      "                                 (None, 128, 768),                                                \n",
      "                                 (None, 128, 768),                                                \n",
      "                                 (None, 128, 768)],                                               \n",
      "                                 'sequence_output':                                               \n",
      "                                 (None, 128, 768),                                                \n",
      "                                 'pooled_output': (                                               \n",
      "                                None, 768)}                                                       \n",
      "                                                                                                  \n",
      " dropout (Dropout)              (None, 768)          0           ['BERT_encoder[0][13]']          \n",
      "                                                                                                  \n",
      " classifier (Dense)             (None, 1)            769         ['dropout[0][0]']                \n",
      "                                                                                                  \n",
      "==================================================================================================\n",
      "Total params: 137,834,882\n",
      "Trainable params: 137,834,881\n",
      "Non-trainable params: 1\n",
      "__________________________________________________________________________________________________"
     ]
    }
   ],
   "source": [
    "classifier_model.summary()"
   ]
  },
  {
   "cell_type": "code",
   "execution_count": 17,
   "metadata": {},
   "outputs": [
    {
     "data": {
      "application/vnd.livy.statement-meta+json": {
       "execution_finish_time": "2022-03-07T12:55:55.5019964Z",
       "execution_start_time": "2022-03-07T12:55:55.3614186Z",
       "livy_statement_state": "available",
       "queued_time": "2022-03-07T12:51:39.2386721Z",
       "session_id": 0,
       "session_start_time": null,
       "spark_pool": "PerforTestSpark",
       "state": "finished",
       "statement_id": 17
      },
      "text/plain": [
       "StatementMeta(PerforTestSpark, 0, 17, Finished, Available)"
      ]
     },
     "metadata": {},
     "output_type": "display_data"
    }
   ],
   "source": [
    "epochs = 5\n",
    "steps_per_epoch = tf.data.experimental.cardinality(train_data).numpy()\n",
    "num_train_steps = steps_per_epoch * epochs\n",
    "num_warmup_steps = int(0.1*num_train_steps)\n",
    "\n",
    "init_lr = 2e-5\n",
    "optimizer = optimization.create_optimizer(init_lr=init_lr,\n",
    "                                          num_train_steps=num_train_steps,\n",
    "                                          num_warmup_steps=num_warmup_steps,\n",
    "                                          optimizer_type='adamw')"
   ]
  },
  {
   "cell_type": "code",
   "execution_count": 18,
   "metadata": {},
   "outputs": [
    {
     "data": {
      "application/vnd.livy.statement-meta+json": {
       "execution_finish_time": "2022-03-07T12:55:55.7524069Z",
       "execution_start_time": "2022-03-07T12:55:55.6125212Z",
       "livy_statement_state": "available",
       "queued_time": "2022-03-07T12:51:39.2410204Z",
       "session_id": 0,
       "session_start_time": null,
       "spark_pool": "PerforTestSpark",
       "state": "finished",
       "statement_id": 18
      },
      "text/plain": [
       "StatementMeta(PerforTestSpark, 0, 18, Finished, Available)"
      ]
     },
     "metadata": {},
     "output_type": "display_data"
    }
   ],
   "source": [
    "classifier_model.compile(optimizer=optimizer,\n",
    "                        loss = tf.keras.losses.BinaryCrossentropy(from_logits=True),\n",
    "                        metrics = tf.metrics.BinaryAccuracy())"
   ]
  },
  {
   "cell_type": "code",
   "execution_count": 19,
   "metadata": {},
   "outputs": [
    {
     "data": {
      "application/vnd.livy.statement-meta+json": {
       "execution_finish_time": null,
       "execution_start_time": "2022-03-07T12:55:55.833818Z",
       "livy_statement_state": "running",
       "queued_time": "2022-03-07T12:51:39.2427917Z",
       "session_id": 0,
       "session_start_time": null,
       "spark_pool": "PerforTestSpark",
       "state": "submitted",
       "statement_id": 19
      },
      "text/plain": [
       "StatementMeta(PerforTestSpark, 0, 19, Submitted, Running)"
      ]
     },
     "metadata": {},
     "output_type": "display_data"
    },
    {
     "name": "stdout",
     "output_type": "stream",
     "text": [
      "Training model with https://tfhub.dev/tensorflow/talkheads_ggelu_bert_en_base/2\n",
      "Epoch 1/5\n",
      "1400/1400 [==============================] - 5253s 4s/step - loss: 0.5034 - binary_accuracy: 0.7863 - val_loss: 0.4421 - val_binary_accuracy: 0.86\n",
      "Epoch 2/5\n",
      "1400/1400 [==============================] - 5334s 4s/step - loss: 0.4223 - binary_accuracy: 0.8884 - val_loss: 0.4399 - val_binary_accuracy: 0.87\n",
      "Epoch 3/5\n",
      "1400/1400 [==============================] - 5438s 4s/step - loss: 0.4013 - binary_accuracy: 0.9107 - val_loss: 0.4374 - val_binary_accuracy: 0.87\n",
      "Epoch 4/5\n",
      "1400/1400 [==============================] - 5519s 4s/step - loss: 0.3851 - binary_accuracy: 0.9268 - val_loss: 0.4338 - val_binary_accuracy: 0.87\n",
      "Epoch 5/5\n",
      "1400/1400 [==============================] - 5562s 4s/step - loss: 0.3723 - binary_accuracy: 0.9405 - val_loss: 0.4304 - val_binary_accuracy: 0.8816"
     ]
    }
   ],
   "source": [
    "#tf.config.run_functions_eagerly(True)\n",
    "print(f'Training model with {tfhub_handle_encoder}')\n",
    "history = classifier_model.fit(x=train_data,\n",
    "                               validation_data=valid_data,\n",
    "                               epochs=epochs)"
   ]
  },
  {
   "cell_type": "code",
   "execution_count": 20,
   "metadata": {},
   "outputs": [
    {
     "data": {
      "application/vnd.livy.statement-meta+json": {
       "execution_finish_time": null,
       "execution_start_time": null,
       "livy_statement_state": null,
       "queued_time": "2022-03-07T12:51:39.2449646Z",
       "session_id": null,
       "session_start_time": null,
       "spark_pool": null,
       "state": "waiting",
       "statement_id": null
      },
      "text/plain": [
       "StatementMeta(, , , Waiting, )"
      ]
     },
     "metadata": {},
     "output_type": "display_data"
    },
    {
     "name": "stdout",
     "output_type": "stream",
     "text": [
      "500/500 [==============================] - 563s 1s/step - loss: 0.4229 - binary_accuracy: 0.88\n",
      "Loss: 0.4229238033294678\n",
      "Accuracy: 0.8891249895095825"
     ]
    }
   ],
   "source": [
    "loss, accuracy = classifier_model.evaluate(test_data)\n",
    "Y_pred = classifier_model.predict(test_data)\n",
    "print(f'Loss: {loss}')\n",
    "print(f'Accuracy: {accuracy}')"
   ]
  },
  {
   "cell_type": "code",
   "execution_count": 21,
   "metadata": {},
   "outputs": [
    {
     "data": {
      "application/vnd.livy.statement-meta+json": {
       "execution_finish_time": null,
       "execution_start_time": null,
       "livy_statement_state": null,
       "queued_time": "2022-03-07T12:51:39.2475583Z",
       "session_id": null,
       "session_start_time": null,
       "spark_pool": null,
       "state": "waiting",
       "statement_id": null
      },
      "text/plain": [
       "StatementMeta(, , , Waiting, )"
      ]
     },
     "metadata": {},
     "output_type": "display_data"
    }
   ],
   "source": [
    "def step_fn(x) :\n",
    "    if x <= 0:\n",
    "        return 0\n",
    "    if x > 0:\n",
    "        return 1 "
   ]
  },
  {
   "cell_type": "code",
   "execution_count": 22,
   "metadata": {},
   "outputs": [
    {
     "data": {
      "application/vnd.livy.statement-meta+json": {
       "execution_finish_time": null,
       "execution_start_time": null,
       "livy_statement_state": null,
       "queued_time": "2022-03-07T12:51:39.2501007Z",
       "session_id": null,
       "session_start_time": null,
       "spark_pool": null,
       "state": "waiting",
       "statement_id": null
      },
      "text/plain": [
       "StatementMeta(, , , Waiting, )"
      ]
     },
     "metadata": {},
     "output_type": "display_data"
    },
    {
     "name": "stdout",
     "output_type": "stream",
     "text": [
      "Confusion Matrix\n",
      "[[3545  510]\n",
      " [ 385 3560]]"
     ]
    }
   ],
   "source": [
    "y_pred = [step_fn(y) for y in Y_pred] \n",
    "print('Confusion Matrix')\n",
    "print(confusion_matrix(np.concatenate([y for x, y in test_data], axis=0), y_pred))"
   ]
  }
 ],
 "metadata": {
  "description": null,
  "kernel_info": {
   "name": "synapse_pyspark"
  },
  "kernelspec": {
   "display_name": "Python 3 (ipykernel)",
   "language": "python",
   "name": "python3"
  },
  "language_info": {
   "codemirror_mode": {
    "name": "ipython",
    "version": 3
   },
   "file_extension": ".py",
   "mimetype": "text/x-python",
   "name": "python",
   "nbconvert_exporter": "python",
   "pygments_lexer": "ipython3",
   "version": "3.9.7"
  },
  "save_output": true,
  "synapse_widget": {
   "state": {},
   "version": "0.1"
  }
 },
 "nbformat": 4,
 "nbformat_minor": 4
}
